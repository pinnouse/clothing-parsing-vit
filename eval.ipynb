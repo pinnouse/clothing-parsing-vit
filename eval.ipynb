{
 "cells": [
  {
   "cell_type": "code",
   "execution_count": 1,
   "metadata": {},
   "outputs": [
    {
     "name": "stderr",
     "output_type": "stream",
     "text": [
      "/home/nick/school/csc420/final/.venv/lib/python3.11/site-packages/torch/nn/modules/transformer.py:286: UserWarning: enable_nested_tensor is True, but self.use_nested_tensor is False because encoder_layer.self_attn.batch_first was not True(use batch_first for better inference performance)\n",
      "  warnings.warn(f\"enable_nested_tensor is True, but self.use_nested_tensor is False because {why_not_sparsity_fast_path}\")\n"
     ]
    }
   ],
   "source": [
    "import torch\n",
    "from torch import nn\n",
    "\n",
    "# default: d_model=768, nhead=12, num_layers=12\n",
    "encoder_layer = nn.TransformerEncoderLayer(d_model=768, nhead=8)\n",
    "transformer_encoder = nn.TransformerEncoder(encoder_layer, num_layers=6)\n",
    "\n",
    "p_model = nn.Sequential(\n",
    "    transformer_encoder,\n",
    "    nn.Linear(768, 2),\n",
    "    nn.Softmax(dim=2)\n",
    ")\n",
    "\n",
    "c_model = nn.Sequential(\n",
    "    transformer_encoder,\n",
    "    nn.Linear(768, 7),\n",
    "    nn.Softmax(dim=2)\n",
    ")\n"
   ]
  },
  {
   "cell_type": "code",
   "execution_count": 2,
   "metadata": {},
   "outputs": [
    {
     "data": {
      "text/plain": [
       "<All keys matched successfully>"
      ]
     },
     "execution_count": 2,
     "metadata": {},
     "output_type": "execute_result"
    }
   ],
   "source": [
    "p_checkpoint = torch.load('person_model-epoch6.pt', map_location=torch.device('cpu'))\n",
    "\n",
    "p_model.load_state_dict(p_checkpoint['model_state_dict'])"
   ]
  },
  {
   "cell_type": "code",
   "execution_count": 4,
   "metadata": {},
   "outputs": [],
   "source": [
    "# PhotoData class\n",
    "from typing import Tuple\n",
    "import h5py\n",
    "import numpy as np\n",
    "\n",
    "\n",
    "class PhotoData(object):\n",
    "\n",
    "    SRC_FOLDER = 'images/'\n",
    "\n",
    "    LBL_FOLDER = 'labels/'\n",
    "\n",
    "    HDF5_FILE = 'all_images.h5'\n",
    "\n",
    "    N = 600\n",
    "\n",
    "    def indextofilename(index) -> str:\n",
    "        return f\"{index:04d}.jpg\"\n",
    "    \n",
    "    def indextolabelname(index) -> Tuple[str]:\n",
    "        ind = f\"{index:04d}\"\n",
    "        return f\"{ind}_person.png\", f\"{ind}_clothes.png\"\n",
    "\n",
    "\n",
    "    def loadimages(self):\n",
    "        images = np.ndarray((PhotoData.N, 600, 400, 3))\n",
    "        for i in range(PhotoData.N):\n",
    "            img_url = os.path.join(PhotoData.SRC_FOLDER, PhotoData.indextofilename(i + 1))\n",
    "            im = iio.imread(img_url)\n",
    "            images[i] = im\n",
    "        return images\n",
    "    \n",
    "    def loadlabels(self):\n",
    "        p_labels = np.ndarray((PhotoData.N, 600, 400), dtype=bool)\n",
    "        c_labels = np.ndarray((PhotoData.N, 600, 400), dtype=np.int8)\n",
    "\n",
    "        for i in range(PhotoData.N):\n",
    "            p_name, c_name = PhotoData.indextolabelname(i+1)\n",
    "            p_url = os.path.join(PhotoData.LBL_FOLDER, p_name)\n",
    "            c_url = os.path.join(PhotoData.LBL_FOLDER, c_name)\n",
    "            p_im = iio.imread(p_url)\n",
    "            c_im = iio.imread(c_url)\n",
    "            p_labels[i] = p_im[:,:,0] > 0\n",
    "            # https://stackoverflow.com/questions/15635025/how-to-map-false-color-image-to-specific-labels-assigned-for-each-color\n",
    "            r_channel = c_im[:, :, 0] > 0\n",
    "            g_channel = c_im[:, :, 1] > 0\n",
    "            b_channel = c_im[:, :, 2] > 0\n",
    "            labels = (b_channel << 2) + (g_channel << 1) + r_channel\n",
    "            c_labels[i] = labels\n",
    "        return p_labels, c_labels\n",
    "    \n",
    "    def parsedata(self):\n",
    "        images = self.loadimages()\n",
    "        p_labels, c_labels = self.loadlabels()\n",
    "        return images, p_labels, c_labels\n",
    "\n",
    "    def storeh5(self, images, p_labels, c_labels):\n",
    "        file = h5py.File(PhotoData.HDF5_FILE, 'w')\n",
    "        file.create_dataset('images', np.shape(images), h5py.h5t.STD_U8BE, data=images)\n",
    "        file.create_dataset('person_labels', np.shape(p_labels), h5py.h5t.STD_U8BE, data=p_labels)\n",
    "        file.create_dataset('clothing_labels', np.shape(c_labels), h5py.h5t.STD_U8BE, data=c_labels)\n",
    "        file.close()\n",
    "\n",
    "    def loadh5(self):\n",
    "        images, p_labels, c_labels = [], [], []\n",
    "        file = h5py.File(PhotoData.HDF5_FILE, 'r+')\n",
    "        images = np.array(file['images']).astype('uint8')\n",
    "        p_labels = np.array(file['person_labels']).astype('float32')\n",
    "        c_labels = np.array(file['clothing_labels']).astype('float32')\n",
    "        return images, p_labels, c_labels"
   ]
  },
  {
   "cell_type": "code",
   "execution_count": 5,
   "metadata": {},
   "outputs": [
    {
     "data": {
      "text/plain": [
       "torch.Size([240, 950, 768])"
      ]
     },
     "execution_count": 5,
     "metadata": {},
     "output_type": "execute_result"
    }
   ],
   "source": [
    "data = PhotoData()\n",
    "imgs, _, _ = data.loadh5()\n",
    "test_src = torch.tensor(imgs[360:], dtype=torch.float32)\n",
    "test_src.shape"
   ]
  },
  {
   "cell_type": "code",
   "execution_count": 6,
   "metadata": {},
   "outputs": [
    {
     "data": {
      "text/plain": [
       "torch.Size([10, 950, 2])"
      ]
     },
     "execution_count": 6,
     "metadata": {},
     "output_type": "execute_result"
    }
   ],
   "source": [
    "p_model.eval()\n",
    "\n",
    "n_test = 10\n",
    "\n",
    "p_output = p_model(test_src[:n_test])\n",
    "p_output.shape"
   ]
  },
  {
   "cell_type": "code",
   "execution_count": 16,
   "metadata": {},
   "outputs": [
    {
     "data": {
      "text/plain": [
       "torch.Size([10, 950, 7])"
      ]
     },
     "execution_count": 16,
     "metadata": {},
     "output_type": "execute_result"
    }
   ],
   "source": [
    "c_checkpoint = torch.load('clothes_model-epoch6.pt', map_location=torch.device('cpu'))\n",
    "c_model.load_state_dict(c_checkpoint['model_state_dict'])\n",
    "c_model.eval()\n",
    "c_output = c_model(test_src[:n_test])\n",
    "c_output.shape"
   ]
  },
  {
   "cell_type": "markdown",
   "metadata": {},
   "source": [
    "# Compare Results"
   ]
  },
  {
   "cell_type": "code",
   "execution_count": 7,
   "metadata": {},
   "outputs": [],
   "source": [
    "from IPython.display import Image"
   ]
  },
  {
   "cell_type": "markdown",
   "metadata": {},
   "source": [
    "## Person Model"
   ]
  },
  {
   "cell_type": "code",
   "execution_count": 17,
   "metadata": {},
   "outputs": [],
   "source": [
    "top_k = torch.topk(p_output, 1).indices\n",
    "height = 38\n",
    "width = 25\n",
    "out_to_im = (top_k * 255).reshape((n_test, height, width))\n"
   ]
  },
  {
   "cell_type": "code",
   "execution_count": 13,
   "metadata": {},
   "outputs": [
    {
     "data": {
      "image/png": "[encoded data removed]",
      "text/plain": [
       "<Figure size 640x480 with 1 Axes>"
      ]
     },
     "metadata": {},
     "output_type": "display_data"
    },
    {
     "data": {
      "image/png": "[encoded data removed]",
      "text/plain": [
       "<IPython.core.display.Image object>"
      ]
     },
     "execution_count": 13,
     "metadata": {},
     "output_type": "execute_result"
    }
   ],
   "source": [
    "i = 1\n",
    "%matplotlib inline\n",
    "from matplotlib import pyplot as plt\n",
    "plt.imshow(out_to_im[i], interpolation='nearest')\n",
    "plt.show()\n",
    "Image(filename=f\"labels/{(361+i):04d}_clothes.png\")"
   ]
  },
  {
   "cell_type": "markdown",
   "metadata": {},
   "source": [
    "## Clothing Comparison"
   ]
  },
  {
   "cell_type": "code",
   "execution_count": 46,
   "metadata": {},
   "outputs": [],
   "source": [
    "def k_to_color(labels):\n",
    "    \"\"\"\n",
    "    Convert top-1 indices to their corresponding colors\n",
    "\n",
    "    labels: NxHxWx1\n",
    "    \"\"\"\n",
    "    N, H, W, _ = labels.shape\n",
    "    out_im = np.zeros((N, H, W, 0), dtype=np.byte)\n",
    "    r = np.left_shift(labels & 1, 7)\n",
    "    g = np.left_shift(labels & 2, 6)\n",
    "    b = np.left_shift(labels & 4, 5)\n",
    "    out_im = np.append(out_im, r, axis=3)\n",
    "    out_im = np.append(out_im, g, axis=3)\n",
    "    out_im = np.append(out_im, b, axis=3)\n",
    "    return out_im"
   ]
  },
  {
   "cell_type": "code",
   "execution_count": 49,
   "metadata": {},
   "outputs": [],
   "source": [
    "top_k = torch.topk(c_output, 1).indices\n",
    "height = 38\n",
    "width = 25\n",
    "reshaped_out = top_k.reshape((n_test, height, width, 1))\n",
    "out_im = k_to_color(reshaped_out)"
   ]
  },
  {
   "cell_type": "code",
   "execution_count": 52,
   "metadata": {},
   "outputs": [
    {
     "data": {
      "image/png": "[encoded data removed]",
      "text/plain": [
       "<Figure size 640x480 with 1 Axes>"
      ]
     },
     "metadata": {},
     "output_type": "display_data"
    },
    {
     "data": {
      "image/png": "[encoded data removed]",
      "text/plain": [
       "<IPython.core.display.Image object>"
      ]
     },
     "execution_count": 52,
     "metadata": {},
     "output_type": "execute_result"
    }
   ],
   "source": [
    "i = 4\n",
    "plt.set_cmap('Accent')\n",
    "plt.imshow(out_im[i], interpolation='nearest')\n",
    "plt.show()\n",
    "Image(filename=f\"labels/{(361+i):04d}_clothes.png\")"
   ]
  },
  {
   "cell_type": "code",
   "execution_count": null,
   "metadata": {},
   "outputs": [],
   "source": []
  }
 ],
 "metadata": {
  "kernelspec": {
   "display_name": "Python 3",
   "language": "python",
   "name": "python3"
  },
  "language_info": {
   "codemirror_mode": {
    "name": "ipython",
    "version": 3
   },
   "file_extension": ".py",
   "mimetype": "text/x-python",
   "name": "python",
   "nbconvert_exporter": "python",
   "pygments_lexer": "ipython3",
   "version": "3.11.8"
  }
 },
 "nbformat": 4,
 "nbformat_minor": 2
}
